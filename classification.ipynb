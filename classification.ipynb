{
 "cells": [
  {
   "cell_type": "markdown",
   "id": "9c08a490-2c11-4072-b1c7-04f864eb8873",
   "metadata": {},
   "source": [
    "# Classification\n",
    "画像分類\n",
    "## dataset\n",
    "kerasのMNISTデータセットを使用。"
   ]
  },
  {
   "cell_type": "code",
   "execution_count": 14,
   "id": "b9b51c56-ca76-496e-9556-8d5d0922cbdd",
   "metadata": {},
   "outputs": [],
   "source": [
    "import numpy as np\n",
    "import os\n",
    "os.environ['TF_FORCE_GPU_ALLOW_GROWTH'] = 'true'"
   ]
  },
  {
   "cell_type": "code",
   "execution_count": 3,
   "id": "f1393d6e-7d0a-4b37-a715-ea4eefe0116a",
   "metadata": {},
   "outputs": [],
   "source": [
    "from keras.datasets import mnist\n",
    "from keras.utils import np_utils\n",
    "\n",
    "(x_train, y_train), (x_test, y_test) = mnist.load_data()\n",
    "\n",
    "# 前処理\n",
    "x_train = x_train.reshape((60000, 28, 28, 1))\n",
    "x_test = x_test.reshape((10000, 28, 28, 1))\n",
    "x_train = x_train / 255\n",
    "x_test = x_test / 255\n",
    "y_train = np_utils.to_categorical(y_train, 10)\n",
    "y_test = np_utils.to_categorical(y_test, 10)"
   ]
  },
  {
   "cell_type": "code",
   "execution_count": 4,
   "id": "76c1ac28-ea07-4972-825d-20d86ae42394",
   "metadata": {},
   "outputs": [],
   "source": [
    "# image size: 1080*1920\n",
    "INPUT_HEIGHT = 28\n",
    "INPUT_WIDTH = 28\n",
    "INPUT_CHANNEL = 1\n",
    "INPUT_SHAPE = (INPUT_HEIGHT,INPUT_WIDTH,INPUT_CHANNEL)"
   ]
  },
  {
   "cell_type": "markdown",
   "id": "bcc0a67e-9f30-482a-90f7-0362922126ff",
   "metadata": {},
   "source": [
    "## CNN"
   ]
  },
  {
   "cell_type": "code",
   "execution_count": 5,
   "id": "371a2e29-649f-47a6-94eb-c8b0f8e3f95c",
   "metadata": {},
   "outputs": [
    {
     "name": "stdout",
     "output_type": "stream",
     "text": [
      "Model: \"sequential\"\n",
      "_________________________________________________________________\n",
      "Layer (type)                 Output Shape              Param #   \n",
      "=================================================================\n",
      "conv2d (Conv2D)              (None, 28, 28, 16)        160       \n",
      "_________________________________________________________________\n",
      "max_pooling2d (MaxPooling2D) (None, 14, 14, 16)        0         \n",
      "_________________________________________________________________\n",
      "conv2d_1 (Conv2D)            (None, 14, 14, 16)        2320      \n",
      "_________________________________________________________________\n",
      "max_pooling2d_1 (MaxPooling2 (None, 7, 7, 16)          0         \n",
      "_________________________________________________________________\n",
      "flatten (Flatten)            (None, 784)               0         \n",
      "_________________________________________________________________\n",
      "dense (Dense)                (None, 10)                7850      \n",
      "=================================================================\n",
      "Total params: 10,330\n",
      "Trainable params: 10,330\n",
      "Non-trainable params: 0\n",
      "_________________________________________________________________\n"
     ]
    }
   ],
   "source": [
    "from tensorflow.keras import datasets, layers, models\n",
    "\n",
    "model = models.Sequential()\n",
    "\n",
    "model.add(layers.Conv2D(16, (3, 3), activation='relu', input_shape=INPUT_SHAPE, padding='same'))\n",
    "model.add(layers.MaxPooling2D((2, 2), padding='same'))\n",
    "model.add(layers.Conv2D(16, (3, 3), activation='relu', padding='same'))\n",
    "model.add(layers.MaxPooling2D((2, 2), padding='same'))\n",
    "model.add(layers.Flatten())\n",
    "model.add(layers.Dense(10, activation='softmax'))\n",
    "\n",
    "model.summary()\n",
    "model.compile(optimizer='adam',\n",
    "              loss='categorical_crossentropy',\n",
    "              metrics=['accuracy'])"
   ]
  },
  {
   "cell_type": "code",
   "execution_count": 7,
   "id": "36d8b651-c8c6-44cc-b77b-5c7d4cc8feb1",
   "metadata": {
    "collapsed": true,
    "jupyter": {
     "outputs_hidden": true
    },
    "tags": []
   },
   "outputs": [
    {
     "name": "stdout",
     "output_type": "stream",
     "text": [
      "Epoch 1/10\n",
      "375/375 [==============================] - 7s 3ms/step - loss: 0.4648 - accuracy: 0.8752 - val_loss: 0.1499 - val_accuracy: 0.9584\n",
      "Epoch 2/10\n",
      "375/375 [==============================] - 1s 3ms/step - loss: 0.1282 - accuracy: 0.9614 - val_loss: 0.1011 - val_accuracy: 0.9718\n",
      "Epoch 3/10\n",
      "375/375 [==============================] - 1s 3ms/step - loss: 0.0904 - accuracy: 0.9728 - val_loss: 0.0790 - val_accuracy: 0.9777\n",
      "Epoch 4/10\n",
      "375/375 [==============================] - 1s 3ms/step - loss: 0.0730 - accuracy: 0.9784 - val_loss: 0.0696 - val_accuracy: 0.9806\n",
      "Epoch 5/10\n",
      "375/375 [==============================] - 1s 3ms/step - loss: 0.0643 - accuracy: 0.9805 - val_loss: 0.0615 - val_accuracy: 0.9833\n",
      "Epoch 6/10\n",
      "375/375 [==============================] - 1s 3ms/step - loss: 0.0578 - accuracy: 0.9830 - val_loss: 0.0621 - val_accuracy: 0.9818\n",
      "Epoch 7/10\n",
      "375/375 [==============================] - 1s 3ms/step - loss: 0.0523 - accuracy: 0.9842 - val_loss: 0.0603 - val_accuracy: 0.9824\n",
      "Epoch 8/10\n",
      "375/375 [==============================] - 1s 3ms/step - loss: 0.0476 - accuracy: 0.9852 - val_loss: 0.0572 - val_accuracy: 0.9828\n",
      "Epoch 9/10\n",
      "375/375 [==============================] - 1s 3ms/step - loss: 0.0451 - accuracy: 0.9858 - val_loss: 0.0506 - val_accuracy: 0.9852\n",
      "Epoch 10/10\n",
      "375/375 [==============================] - 1s 3ms/step - loss: 0.0413 - accuracy: 0.9875 - val_loss: 0.0502 - val_accuracy: 0.9860\n"
     ]
    },
    {
     "data": {
      "text/plain": [
       "<keras.callbacks.History at 0x2297b20dd60>"
      ]
     },
     "execution_count": 7,
     "metadata": {},
     "output_type": "execute_result"
    }
   ],
   "source": [
    "model.fit(x_train, y_train, batch_size=128, epochs=10, validation_split=0.2)"
   ]
  },
  {
   "cell_type": "code",
   "execution_count": 15,
   "id": "9fa20e3f-2b0c-4cc6-802c-8798a10fd958",
   "metadata": {},
   "outputs": [
    {
     "name": "stdout",
     "output_type": "stream",
     "text": [
      "313/313 [==============================] - 1s 2ms/step - loss: 0.0447 - accuracy: 0.9858\n",
      "accuracy: 0.986\n"
     ]
    }
   ],
   "source": [
    "test_loss, test_acc = model.evaluate(x_test, y_test)\n",
    "print(f'accuracy: {np.round(test_acc, 3)}')"
   ]
  },
  {
   "cell_type": "markdown",
   "id": "4e0316da-4d8a-492c-8ff1-148c168a1e03",
   "metadata": {},
   "source": [
    "## Neural Network"
   ]
  },
  {
   "cell_type": "code",
   "execution_count": 27,
   "id": "ff6ad0b6-3dd5-49d3-b610-17ef61cb46b3",
   "metadata": {},
   "outputs": [
    {
     "name": "stdout",
     "output_type": "stream",
     "text": [
      "Model: \"sequential_6\"\n",
      "_________________________________________________________________\n",
      "Layer (type)                 Output Shape              Param #   \n",
      "=================================================================\n",
      "flatten_6 (Flatten)          (None, 784)               0         \n",
      "_________________________________________________________________\n",
      "dense_11 (Dense)             (None, 13)                10205     \n",
      "_________________________________________________________________\n",
      "dense_12 (Dense)             (None, 10)                140       \n",
      "=================================================================\n",
      "Total params: 10,345\n",
      "Trainable params: 10,345\n",
      "Non-trainable params: 0\n",
      "_________________________________________________________________\n"
     ]
    }
   ],
   "source": [
    "from tensorflow.keras import datasets, layers, models\n",
    "\n",
    "model = models.Sequential()\n",
    "\n",
    "model.add(layers.Flatten(input_shape=(INPUT_HEIGHT, INPUT_WIDTH)))\n",
    "model.add(layers.Dense(13, activation='relu'))\n",
    "model.add(layers.Dense(10, activation='softmax'))\n",
    "\n",
    "model.summary()\n",
    "model.compile(optimizer='adam',\n",
    "              loss='categorical_crossentropy',\n",
    "              metrics=['accuracy'])"
   ]
  },
  {
   "cell_type": "code",
   "execution_count": 28,
   "id": "6d026838-1a2e-43fe-b785-45790c6cffb0",
   "metadata": {
    "collapsed": true,
    "jupyter": {
     "outputs_hidden": true
    },
    "tags": []
   },
   "outputs": [
    {
     "name": "stdout",
     "output_type": "stream",
     "text": [
      "Epoch 1/10\n",
      "375/375 [==============================] - 1s 3ms/step - loss: 0.7919 - accuracy: 0.7829 - val_loss: 0.3752 - val_accuracy: 0.8953\n",
      "Epoch 2/10\n",
      "375/375 [==============================] - 1s 2ms/step - loss: 0.3442 - accuracy: 0.9024 - val_loss: 0.2893 - val_accuracy: 0.9187\n",
      "Epoch 3/10\n",
      "375/375 [==============================] - 1s 2ms/step - loss: 0.2907 - accuracy: 0.9171 - val_loss: 0.2639 - val_accuracy: 0.9252\n",
      "Epoch 4/10\n",
      "375/375 [==============================] - 1s 2ms/step - loss: 0.2685 - accuracy: 0.9231 - val_loss: 0.2510 - val_accuracy: 0.9298\n",
      "Epoch 5/10\n",
      "375/375 [==============================] - 1s 2ms/step - loss: 0.2548 - accuracy: 0.9267 - val_loss: 0.2471 - val_accuracy: 0.9301\n",
      "Epoch 6/10\n",
      "375/375 [==============================] - 1s 2ms/step - loss: 0.2453 - accuracy: 0.9291 - val_loss: 0.2394 - val_accuracy: 0.9315\n",
      "Epoch 7/10\n",
      "375/375 [==============================] - 1s 2ms/step - loss: 0.2364 - accuracy: 0.9320 - val_loss: 0.2374 - val_accuracy: 0.9320\n",
      "Epoch 8/10\n",
      "375/375 [==============================] - 1s 2ms/step - loss: 0.2297 - accuracy: 0.9333 - val_loss: 0.2347 - val_accuracy: 0.9317\n",
      "Epoch 9/10\n",
      "375/375 [==============================] - 1s 2ms/step - loss: 0.2243 - accuracy: 0.9348 - val_loss: 0.2319 - val_accuracy: 0.9323\n",
      "Epoch 10/10\n",
      "375/375 [==============================] - 1s 2ms/step - loss: 0.2190 - accuracy: 0.9368 - val_loss: 0.2332 - val_accuracy: 0.9323\n"
     ]
    },
    {
     "data": {
      "text/plain": [
       "<keras.callbacks.History at 0x2297dd22250>"
      ]
     },
     "execution_count": 28,
     "metadata": {},
     "output_type": "execute_result"
    }
   ],
   "source": [
    "model.fit(x_train, y_train, batch_size=128, epochs=10, validation_split=0.2)"
   ]
  },
  {
   "cell_type": "code",
   "execution_count": 29,
   "id": "f2671bd2-4d1c-4129-8a83-52d6f1bb6e32",
   "metadata": {},
   "outputs": [
    {
     "name": "stdout",
     "output_type": "stream",
     "text": [
      "313/313 [==============================] - 1s 2ms/step - loss: 0.2334 - accuracy: 0.9325\n",
      "accuracy: 0.933\n"
     ]
    }
   ],
   "source": [
    "test_loss, test_acc = model.evaluate(x_test, y_test)\n",
    "print(f'accuracy: {np.round(test_acc, 3)}')"
   ]
  },
  {
   "cell_type": "code",
   "execution_count": null,
   "id": "6085fa20-6e7c-4e1c-beff-fb497e0ac4bc",
   "metadata": {},
   "outputs": [],
   "source": []
  }
 ],
 "metadata": {
  "kernelspec": {
   "display_name": "Python 3 (ipykernel)",
   "language": "python",
   "name": "python3"
  },
  "language_info": {
   "codemirror_mode": {
    "name": "ipython",
    "version": 3
   },
   "file_extension": ".py",
   "mimetype": "text/x-python",
   "name": "python",
   "nbconvert_exporter": "python",
   "pygments_lexer": "ipython3",
   "version": "3.9.12"
  }
 },
 "nbformat": 4,
 "nbformat_minor": 5
}
