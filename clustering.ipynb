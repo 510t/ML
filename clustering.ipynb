{
 "cells": [
  {
   "cell_type": "markdown",
   "id": "968eb901-a459-49f4-b8df-d3a96f80068d",
   "metadata": {},
   "source": [
    "# clustering\n",
    "## dataset\n",
    "sklearnに存在するアヤメの分類データセットを使用。\\\n",
    "クラスタリング結果はt-SNEで二次元化して表示。"
   ]
  },
  {
   "cell_type": "code",
   "execution_count": 33,
   "id": "4f693197-2b12-4801-981d-5a17286f133f",
   "metadata": {},
   "outputs": [],
   "source": [
    "from sklearn.datasets import load_iris\n",
    "\n",
    "bunch = load_iris()\n",
    "X = bunch['data']\n",
    "Y = bunch['target']"
   ]
  },
  {
   "cell_type": "markdown",
   "id": "4b122862-114b-4c0a-8f34-e22dddfae43d",
   "metadata": {},
   "source": [
    "## Ground Truth"
   ]
  },
  {
   "cell_type": "code",
   "execution_count": 35,
   "id": "bd0cb858-1842-4969-b273-34a3a4d86d3d",
   "metadata": {},
   "outputs": [],
   "source": [
    "from matplotlib import pyplot\n",
    "import numpy as np\n",
    "\n",
    "# x: data(2D)\n",
    "# y: labels\n",
    "def plot_clusters(x, y):\n",
    "    for i in np.unique(y):\n",
    "        x_rows = np.where(y == i)\n",
    "        pyplot.scatter(x[x_rows, 0], x[x_rows, 1])\n",
    "    pyplot.show()"
   ]
  },
  {
   "cell_type": "code",
   "execution_count": 36,
   "id": "90d0927e-8a99-4ad6-a23c-957d8647bbad",
   "metadata": {},
   "outputs": [
    {
     "data": {
      "image/png": "[encoded data removed]",
      "text/plain": [
       "<Figure size 432x288 with 1 Axes>"
      ]
     },
     "metadata": {
      "needs_background": "light"
     },
     "output_type": "display_data"
    }
   ],
   "source": [
    "from sklearn.manifold import TSNE\n",
    "\n",
    "tsne = TSNE(n_components=2, init='random', learning_rate='auto' , random_state=0)\n",
    "x = tsne.fit_transform(X)\n",
    "\n",
    "plot_clusters(x, Y)"
   ]
  },
  {
   "cell_type": "markdown",
   "id": "c330538a-119e-45a8-b344-eff7df37b469",
   "metadata": {},
   "source": [
    "## k-means"
   ]
  },
  {
   "cell_type": "code",
   "execution_count": null,
   "id": "53ff4cd3-91af-41c1-8618-84189b382c15",
   "metadata": {},
   "outputs": [],
   "source": []
  }
 ],
 "metadata": {
  "kernelspec": {
   "display_name": "Python 3 (ipykernel)",
   "language": "python",
   "name": "python3"
  },
  "language_info": {
   "codemirror_mode": {
    "name": "ipython",
    "version": 3
   },
   "file_extension": ".py",
   "mimetype": "text/x-python",
   "name": "python",
   "nbconvert_exporter": "python",
   "pygments_lexer": "ipython3",
   "version": "3.9.12"
  }
 },
 "nbformat": 4,
 "nbformat_minor": 5
}
