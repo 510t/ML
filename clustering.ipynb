{
 "cells": [
  {
   "cell_type": "code",
   "execution_count": 2,
   "id": "14aad3b5-02d8-4ec1-a560-cb0298d205e6",
   "metadata": {},
   "outputs": [],
   "source": [
    "from sklearn.datasets import load_iris\n",
    "\n",
    "bunch = load_iris()\n",
    "X = bunch['data']\n",
    "Y = bunch['target']"
   ]
  },
  {
   "cell_type": "code",
   "execution_count": 3,
   "id": "bd0cb858-1842-4969-b273-34a3a4d86d3d",
   "metadata": {},
   "outputs": [
    {
     "name": "stderr",
     "output_type": "stream",
     "text": [
      "C:\\Users\\Pikam\\anaconda3\\envs\\scikit-learn\\lib\\site-packages\\sklearn\\manifold\\_t_sne.py:790: FutureWarning: The default learning rate in TSNE will change from 200.0 to 'auto' in 1.2.\n",
      "  warnings.warn(\n",
      "C:\\Users\\Pikam\\anaconda3\\envs\\scikit-learn\\lib\\site-packages\\sklearn\\manifold\\_t_sne.py:982: FutureWarning: The PCA initialization in TSNE will change to have the standard deviation of PC1 equal to 1e-4 in 1.2. This will ensure better convergence.\n",
      "  warnings.warn(\n"
     ]
    },
    {
     "data": {
      "image/png": "[encoded data removed]",
      "text/plain": [
       "<Figure size 432x288 with 1 Axes>"
      ]
     },
     "metadata": {
      "needs_background": "light"
     },
     "output_type": "display_data"
    }
   ],
   "source": [
    "from matplotlib import pyplot\n",
    "from numpy import where\n",
    "from sklearn.manifold import TSNE\n",
    "\n",
    "tsne = TSNE(n_components=2, init='pca', random_state=0)\n",
    "x = tsne.fit_transform(X)\n",
    "\n",
    "def plot_clusters(X, cluster_ids):\n",
    "    for class_value in range(3):\n",
    "        row_ix = where(cluster_ids == class_value)\n",
    "        pyplot.scatter(X[row_ix, 0], X[row_ix, 1])\n",
    "    pyplot.show()\n",
    "    \n",
    "plot_clusters(x, Y)"
   ]
  },
  {
   "cell_type": "code",
   "execution_count": null,
   "id": "26e5b781-318c-4d0f-86d9-5d950af73d7b",
   "metadata": {},
   "outputs": [],
   "source": []
  }
 ],
 "metadata": {
  "kernelspec": {
   "display_name": "Python 3 (ipykernel)",
   "language": "python",
   "name": "python3"
  },
  "language_info": {
   "codemirror_mode": {
    "name": "ipython",
    "version": 3
   },
   "file_extension": ".py",
   "mimetype": "text/x-python",
   "name": "python",
   "nbconvert_exporter": "python",
   "pygments_lexer": "ipython3",
   "version": "3.9.12"
  }
 },
 "nbformat": 4,
 "nbformat_minor": 5
}
